{
 "cells": [
  {
   "cell_type": "code",
   "execution_count": 1,
   "id": "6078247d",
   "metadata": {},
   "outputs": [],
   "source": [
    "import matplotlib.pyplot as plt \n",
    "import pandas as pd"
   ]
  },
  {
   "cell_type": "code",
   "execution_count": 10,
   "id": "44b92c6a",
   "metadata": {},
   "outputs": [],
   "source": [
    "WHITE_PERCENT = 67.1\n",
    "AIONA_PERCENT = 0.3\n",
    "TOTAL_STUDENTS = 28485"
   ]
  },
  {
   "cell_type": "code",
   "execution_count": 31,
   "id": "d03861f2",
   "metadata": {},
   "outputs": [
    {
     "name": "stdout",
     "output_type": "stream",
     "text": [
      "903\n",
      "36816\n"
     ]
    }
   ],
   "source": [
    "df = pd.read_csv('2022.2023 Discipline by Race Ethnicity.updated2.24.24.csv')\n",
    "white_unique_disciplinary_actions = df.iloc[664][14]\n",
    "na_unique_disciplinary_actions = df.iloc[658][14]\n",
    "print(na_unique_disciplinary_actions)\n",
    "print(white_unique_disciplinary_actions)"
   ]
  },
  {
   "cell_type": "code",
   "execution_count": 34,
   "id": "f87a9a95",
   "metadata": {},
   "outputs": [
    {
     "name": "stdout",
     "output_type": "stream",
     "text": [
      "Disciplinary actions per Native student (unique): 0.10566965069334737\n",
      "Disciplinary actions per White student (unique): 0.019261843828699554\n"
     ]
    }
   ],
   "source": [
    "actions_per_na_student = int(na_unique_disciplinary_actions)/(TOTAL_STUDENTS*AIONA_PERCENT)\n",
    "actions_per_white_student = int(white_unique_disciplinary_actions)/(TOTAL_STUDENTS*WHITE_PERCENT)\n",
    "print(f'Disciplinary actions per Native student (unique): {actions_per_na_student}')\n",
    "print(f'Disciplinary actions per White student (unique): {actions_per_white_student}')"
   ]
  }
 ],
 "metadata": {
  "kernelspec": {
   "display_name": "Python 3 (ipykernel)",
   "language": "python",
   "name": "python3"
  },
  "language_info": {
   "codemirror_mode": {
    "name": "ipython",
    "version": 3
   },
   "file_extension": ".py",
   "mimetype": "text/x-python",
   "name": "python",
   "nbconvert_exporter": "python",
   "pygments_lexer": "ipython3",
   "version": "3.11.5"
  }
 },
 "nbformat": 4,
 "nbformat_minor": 5
}
